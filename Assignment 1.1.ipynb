{
 "cells": [
  {
   "cell_type": "markdown",
   "id": "639b4278",
   "metadata": {},
   "source": [
    "# Q.1 Finding the percentage"
   ]
  },
  {
   "cell_type": "code",
   "execution_count": 1,
   "id": "5bd869ab",
   "metadata": {},
   "outputs": [
    {
     "name": "stdout",
     "output_type": "stream",
     "text": [
      "3\n",
      "Krishna 67 68 69 \n",
      "Arjun 70 98 63 \n",
      "Malika 52 56 60\n",
      "Arjun\n",
      "77.00\n"
     ]
    }
   ],
   "source": [
    "n = int(input())\n",
    "student_marks={}\n",
    "for i in range(n):\n",
    "    name, *line=input().split()\n",
    "    scores=list(map(float,line))\n",
    "    student_marks[name]=scores\n",
    "student_name=input()\n",
    "a=student_marks[student_name]    \n",
    "b=sum(a)/3\n",
    "c=round(b,2)\n",
    "print(\"{0:.2f}\".format(c))"
   ]
  },
  {
   "cell_type": "markdown",
   "id": "ddcfeb1c",
   "metadata": {},
   "source": [
    "# Q.2 In Python, a string can be split on a delimiter."
   ]
  },
  {
   "cell_type": "code",
   "execution_count": 1,
   "id": "85391c00",
   "metadata": {},
   "outputs": [
    {
     "name": "stdout",
     "output_type": "stream",
     "text": [
      "this-is-a-string\n"
     ]
    }
   ],
   "source": [
    "a = \"this is a string\"\n",
    "a = a.split(\" \")\n",
    "b=\"-\".join(a)\n",
    "print(b)"
   ]
  },
  {
   "cell_type": "markdown",
   "id": "1c8475da",
   "metadata": {},
   "source": [
    "# Q.3 Set .intersection() Operation"
   ]
  },
  {
   "cell_type": "code",
   "execution_count": 2,
   "id": "1d00d0e2",
   "metadata": {},
   "outputs": [
    {
     "name": "stdout",
     "output_type": "stream",
     "text": [
      "9\n",
      "1 2 3 4 5 6 7 8 9\n",
      "9\n",
      "10 1 2 3 11 21 55 6 8\n",
      "5\n"
     ]
    }
   ],
   "source": [
    "n=int(input())\n",
    "n1=set(map(int,input().split()))\n",
    "m=int(input())\n",
    "m1=set(map(int,input().split()))\n",
    "ans=n1.intersection(m1)\n",
    "count=0\n",
    "for i in ans:\n",
    "    count=count+1\n",
    "print(count)"
   ]
  },
  {
   "cell_type": "markdown",
   "id": "9da08da5",
   "metadata": {},
   "source": [
    "#  Q.4 Find the Runner-Up Score."
   ]
  },
  {
   "cell_type": "code",
   "execution_count": 3,
   "id": "a4339d3a",
   "metadata": {},
   "outputs": [
    {
     "name": "stdout",
     "output_type": "stream",
     "text": [
      "5\n",
      "2 3 6 6 5\n",
      "5\n"
     ]
    }
   ],
   "source": [
    "if __name__ == '__main__':\n",
    "    n = int(input())\n",
    "    arr = set(map(int, input().split()))\n",
    "    print(sorted(arr)[-2])"
   ]
  },
  {
   "cell_type": "markdown",
   "id": "9dff2908",
   "metadata": {},
   "source": [
    "## Q.5 SWAP CASE"
   ]
  },
  {
   "cell_type": "code",
   "execution_count": 4,
   "id": "dedcd8f3",
   "metadata": {},
   "outputs": [
    {
     "name": "stdout",
     "output_type": "stream",
     "text": [
      "EDyODA\n"
     ]
    }
   ],
   "source": [
    "def swap_case(s):\n",
    "    return s.swapcase()\n",
    "a = swap_case('edYoda')\n",
    "print(a)"
   ]
  },
  {
   "cell_type": "markdown",
   "id": "ca99a3b9",
   "metadata": {},
   "source": [
    "## Q.6 Arithmatic operators"
   ]
  },
  {
   "cell_type": "code",
   "execution_count": 5,
   "id": "5818f21f",
   "metadata": {},
   "outputs": [
    {
     "name": "stdout",
     "output_type": "stream",
     "text": [
      "3\n",
      "2\n",
      "5\n",
      "1\n",
      "6\n"
     ]
    }
   ],
   "source": [
    "a=int(input())\n",
    "b=int(input())\n",
    "print(a+b)\n",
    "print(a-b)\n",
    "print(a*b)"
   ]
  },
  {
   "cell_type": "markdown",
   "id": "42ad9724",
   "metadata": {},
   "source": [
    "## Q.7 Python: Division"
   ]
  },
  {
   "cell_type": "code",
   "execution_count": 7,
   "id": "28a3da5f",
   "metadata": {},
   "outputs": [
    {
     "name": "stdout",
     "output_type": "stream",
     "text": [
      "4\n",
      "3\n",
      "1\n",
      "1.3333333333333333\n"
     ]
    }
   ],
   "source": [
    "    a = int(input())\n",
    "    b = int(input())\n",
    "    print(a//b)\n",
    "    print(a/b)"
   ]
  },
  {
   "cell_type": "markdown",
   "id": "df69f785",
   "metadata": {},
   "source": [
    "## Q.8 Python If-Else"
   ]
  },
  {
   "cell_type": "code",
   "execution_count": 8,
   "id": "43ae97c9",
   "metadata": {},
   "outputs": [
    {
     "name": "stdout",
     "output_type": "stream",
     "text": [
      "24\n",
      "Not Weird\n"
     ]
    }
   ],
   "source": [
    "n=int(input())\n",
    "if n%2!=0:\n",
    "    print('weird')\n",
    "else:\n",
    "    if n>=2 and n<=5:\n",
    "        print('Not Weired')\n",
    "    elif n>=5 and n<=20:\n",
    "        print('weird')\n",
    "    else:\n",
    "        print('Not Weird')"
   ]
  },
  {
   "cell_type": "markdown",
   "id": "fc0dacc2",
   "metadata": {},
   "source": [
    "## Q.9 Nested Lists"
   ]
  },
  {
   "cell_type": "code",
   "execution_count": 1,
   "id": "06eb43c4",
   "metadata": {},
   "outputs": [
    {
     "name": "stdout",
     "output_type": "stream",
     "text": [
      "5\n",
      "Harry\n",
      "37.25\n",
      "Berry\n",
      "37.21\n",
      "Tina\n",
      "37.2\n",
      "Akriti\n",
      "41\n",
      "Harsh\n",
      "39\n",
      "Berry\n"
     ]
    }
   ],
   "source": [
    "n=int (input())\n",
    "res=[]\n",
    "grade=[]\n",
    "for i in range(n):\n",
    "    name=input() \n",
    "    mark=float(input())\n",
    "    res.append( [name,mark]) \n",
    "    grade.append(mark)\n",
    "grade=sorted (set (grade)) \n",
    "m=grade [1]\n",
    "name=[]\n",
    "for val in res:\n",
    "    if m==val [1]:\n",
    "        name.append (val[0])\n",
    "name.sort()\n",
    "for nm in name:\n",
    "    print (nm)"
   ]
  },
  {
   "cell_type": "markdown",
   "id": "84fffbd9",
   "metadata": {},
   "source": [
    "## Q.10 loop"
   ]
  },
  {
   "cell_type": "code",
   "execution_count": 2,
   "id": "121a8fc5",
   "metadata": {},
   "outputs": [
    {
     "name": "stdout",
     "output_type": "stream",
     "text": [
      "5\n",
      "0\n",
      "1\n",
      "4\n",
      "9\n",
      "16\n"
     ]
    }
   ],
   "source": [
    "n=int(input())\n",
    "for i in range(n):\n",
    "    print(i*i)"
   ]
  },
  {
   "cell_type": "markdown",
   "id": "25239752",
   "metadata": {},
   "source": [
    "## Q.11 Write a function"
   ]
  },
  {
   "cell_type": "code",
   "execution_count": 3,
   "id": "1b3267b4",
   "metadata": {},
   "outputs": [
    {
     "name": "stdout",
     "output_type": "stream",
     "text": [
      "True\n"
     ]
    }
   ],
   "source": [
    "def is_leap(year):\n",
    "    leap = False\n",
    "    if (year %4==0) and (year %100!=0 or year %400==0):\n",
    "        leap = True\n",
    "    return leap\n",
    "a=is_leap(2020)\n",
    "print(a)"
   ]
  },
  {
   "cell_type": "markdown",
   "id": "dae87551",
   "metadata": {},
   "source": [
    "## Q.12 Find a string"
   ]
  },
  {
   "cell_type": "code",
   "execution_count": 5,
   "id": "4205fc93",
   "metadata": {},
   "outputs": [
    {
     "name": "stdout",
     "output_type": "stream",
     "text": [
      "ASCDCDC\n",
      "CD\n",
      "2\n"
     ]
    }
   ],
   "source": [
    "def count_substring(string, sub_string):\n",
    "    count = 0\n",
    "    for i in range(len(string)-len(sub_string)+1):\n",
    "        if (string[i:i+len(sub_string)] == sub_string):\n",
    "            count += 1\n",
    "    return count\n",
    "\n",
    "if __name__ == '__main__':\n",
    "    string = input().strip()\n",
    "    sub_string = input().strip()\n",
    "    \n",
    "    count = count_substring(string, sub_string)\n",
    "    print(count)"
   ]
  },
  {
   "cell_type": "markdown",
   "id": "2873e922",
   "metadata": {},
   "source": [
    "## Q.13 Lists"
   ]
  },
  {
   "cell_type": "code",
   "execution_count": 2,
   "id": "fa133d3e",
   "metadata": {},
   "outputs": [
    {
     "name": "stdout",
     "output_type": "stream",
     "text": [
      "12\n",
      "insert 0 5\n",
      "insert 1 10\n",
      "insert 0 6\n",
      "print\n",
      "[6, 5, 10]\n",
      "remove 6\n",
      "append 9\n",
      "append 1\n",
      "sort\n",
      "print\n",
      "[1, 5, 9, 10]\n",
      "pop\n",
      "reverse\n",
      "print\n",
      "[9, 5, 1]\n"
     ]
    }
   ],
   "source": [
    "if __name__ == '__main__':\n",
    "    N = int(input())\n",
    "    Output = []\n",
    "    for i in range(0,N):\n",
    "        ip = input().split();\n",
    "        if ip[0] == \"print\":\n",
    "            print(Output)\n",
    "        elif ip[0] == \"insert\":\n",
    "            Output.insert(int(ip[1]),int(ip[2]))\n",
    "        elif ip[0] == \"remove\":\n",
    "            Output.remove(int(ip[1]))\n",
    "        elif ip[0] == \"pop\":\n",
    "            Output.pop();\n",
    "        elif ip[0] == \"append\":\n",
    "            Output.append(int(ip[1]))\n",
    "        elif ip[0] == \"sort\":\n",
    "            Output.sort();\n",
    "        else:\n",
    "            Output.reverse();"
   ]
  },
  {
   "cell_type": "code",
   "execution_count": null,
   "id": "bf3824c3",
   "metadata": {},
   "outputs": [],
   "source": []
  },
  {
   "cell_type": "code",
   "execution_count": null,
   "id": "b5d3bc70",
   "metadata": {},
   "outputs": [],
   "source": []
  }
 ],
 "metadata": {
  "kernelspec": {
   "display_name": "Python 3 (ipykernel)",
   "language": "python",
   "name": "python3"
  },
  "language_info": {
   "codemirror_mode": {
    "name": "ipython",
    "version": 3
   },
   "file_extension": ".py",
   "mimetype": "text/x-python",
   "name": "python",
   "nbconvert_exporter": "python",
   "pygments_lexer": "ipython3",
   "version": "3.10.1"
  }
 },
 "nbformat": 4,
 "nbformat_minor": 5
}
